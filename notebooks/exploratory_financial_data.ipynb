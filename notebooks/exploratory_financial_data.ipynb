{
 "cells": [
  {
   "attachments": {},
   "cell_type": "markdown",
   "metadata": {
    "collapsed": false,
    "jupyter": {
     "outputs_hidden": false
    }
   },
   "source": [
    "# NCS Funding Study, exploratory visualizations\n",
    "\n",
    "Explore and propose new visualizations for the [NCS funding study](https://tnc.app.box.com/s/d0rbdj81b7mwq7fcfsq2t7descdf8hu7/folder/168340132008). that later will be implemented in the NCS funding study web page.\n",
    "\n",
    "\n"
   ]
  },
  {
   "cell_type": "markdown",
   "metadata": {},
   "source": [
    "## Methodology\n",
    "\n",
    "The methodology used in this notebook is based on the following steps:  \n",
    "Data sources:\n",
    "- NCS funding study data: [excel file](https://tnc.app.box.com/s/d0rbdj81b7mwq7fcfsq2t7descdf8hu7/file/1090909896439)\n",
    "\n",
    "Data display and visualization assumptions and questions:\n",
    "* **Narrative**: what is the story that the data is telling? what is the story that we want to tell?\n",
    "* **Information density**: Infographic or place to play with all the information\n",
    "* **Information hierarchy**: what is the most important information to show? what is the second most important information to show? etc.\n",
    "* **Layout**: accept scroll (web-style) or want a non-scroll interface with buttons (tool-style)\n",
    "* **Interactivity**: hover, click, zoom, filter, etc.\n",
    "* **Color**: what colors to use? what colors to avoid?"
   ]
  },
  {
   "attachments": {},
   "cell_type": "markdown",
   "metadata": {},
   "source": [
    "## Setup\n",
    "\n",
    "### Library import\n"
   ]
  },
  {
   "cell_type": "code",
   "execution_count": 4,
   "metadata": {
    "collapsed": false,
    "jupyter": {
     "outputs_hidden": false
    }
   },
   "outputs": [],
   "source": [
    "from pathlib import Path  # noqa: F401\n",
    "import sys\n",
    "\n",
    "import pandas as pd"
   ]
  },
  {
   "attachments": {},
   "cell_type": "markdown",
   "metadata": {},
   "source": [
    "### Utils"
   ]
  },
  {
   "cell_type": "code",
   "execution_count": null,
   "metadata": {},
   "outputs": [],
   "source": []
  },
  {
   "attachments": {},
   "cell_type": "markdown",
   "metadata": {
    "collapsed": false,
    "jupyter": {
     "outputs_hidden": false
    }
   },
   "source": [
    "<a id='section_1'></a>\n",
    "## { Section }\n",
    "\n",
    "{ Problem breakdown and code }\n"
   ]
  },
  {
   "cell_type": "code",
   "execution_count": null,
   "metadata": {
    "collapsed": false,
    "jupyter": {
     "outputs_hidden": false
    }
   },
   "outputs": [],
   "source": []
  },
  {
   "attachments": {},
   "cell_type": "markdown",
   "metadata": {
    "collapsed": false,
    "jupyter": {
     "outputs_hidden": false
    }
   },
   "source": [
    "<a id='section_2'></a>\n",
    "## { Section }\n",
    "\n",
    "{ Problem breakdown and code }\n"
   ]
  },
  {
   "cell_type": "code",
   "execution_count": null,
   "metadata": {
    "collapsed": false,
    "jupyter": {
     "outputs_hidden": false
    }
   },
   "outputs": [],
   "source": []
  },
  {
   "attachments": {},
   "cell_type": "markdown",
   "metadata": {
    "collapsed": false,
    "jupyter": {
     "outputs_hidden": false
    }
   },
   "source": [
    "<a id='conclusion'></a>\n",
    "## Conclusion\n",
    "\n",
    "{ Summarize findings and next steps. }\n"
   ]
  }
 ],
 "metadata": {
  "kernelspec": {
   "display_name": "Python 3 (ipykernel)",
   "language": "python",
   "name": "python3"
  }
 },
 "nbformat": 4,
 "nbformat_minor": 4
}
